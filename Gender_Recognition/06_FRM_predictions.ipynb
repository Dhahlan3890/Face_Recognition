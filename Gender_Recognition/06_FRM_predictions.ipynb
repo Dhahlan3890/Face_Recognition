{
 "cells": [
  {
   "cell_type": "code",
   "execution_count": 1,
   "id": "b93856d9-ac86-4310-9d6e-92e6c5c812f7",
   "metadata": {},
   "outputs": [
    {
     "name": "stderr",
     "output_type": "stream",
     "text": [
      "c:\\Users\\Hp\\AppData\\Local\\Programs\\Python\\Python312\\Lib\\site-packages\\sklearn\\base.py:348: InconsistentVersionWarning: Trying to unpickle estimator SVC from version 0.24.2 when using version 1.3.2. This might lead to breaking code or invalid results. Use at your own risk. For more info please refer to:\n",
      "https://scikit-learn.org/stable/model_persistence.html#security-maintainability-limitations\n",
      "  warnings.warn(\n",
      "c:\\Users\\Hp\\AppData\\Local\\Programs\\Python\\Python312\\Lib\\site-packages\\sklearn\\base.py:348: InconsistentVersionWarning: Trying to unpickle estimator PCA from version 0.24.2 when using version 1.3.2. This might lead to breaking code or invalid results. Use at your own risk. For more info please refer to:\n",
      "https://scikit-learn.org/stable/model_persistence.html#security-maintainability-limitations\n",
      "  warnings.warn(\n"
     ]
    }
   ],
   "source": [
    "import cv2\n",
    "from face_recognition import faceRecognitionPipeline"
   ]
  },
  {
   "cell_type": "code",
   "execution_count": 2,
   "id": "ddc8d5d7",
   "metadata": {},
   "outputs": [],
   "source": [
    "import matplotlib.pyplot as plt"
   ]
  },
  {
   "cell_type": "markdown",
   "id": "b1892f62",
   "metadata": {},
   "source": [
    "### Face Recognition Prediction"
   ]
  },
  {
   "cell_type": "code",
   "execution_count": 8,
   "id": "8c3d32b6",
   "metadata": {},
   "outputs": [],
   "source": [
    "pred_img, pred_dict = faceRecognitionPipeline('./test_images/getty_test.jpg')"
   ]
  },
  {
   "cell_type": "code",
   "execution_count": 9,
   "id": "0019c970",
   "metadata": {},
   "outputs": [],
   "source": [
    "cv2.imshow(\"Predicted image\",pred_img)\n",
    "cv2.waitKey(0)\n",
    "cv2.destroyAllWindows()"
   ]
  },
  {
   "cell_type": "code",
   "execution_count": 4,
   "id": "dc9860c1",
   "metadata": {},
   "outputs": [
    {
     "ename": "NameError",
     "evalue": "name 'pred_img' is not defined",
     "output_type": "error",
     "traceback": [
      "\u001b[1;31m---------------------------------------------------------------------------\u001b[0m",
      "\u001b[1;31mNameError\u001b[0m                                 Traceback (most recent call last)",
      "Cell \u001b[1;32mIn[4], line 1\u001b[0m\n\u001b[1;32m----> 1\u001b[0m img_rgb \u001b[38;5;241m=\u001b[39m cv2\u001b[38;5;241m.\u001b[39mcvtColor(\u001b[43mpred_img\u001b[49m,cv2\u001b[38;5;241m.\u001b[39mCOLOR_BGR2RGB)\n\u001b[0;32m      3\u001b[0m plt\u001b[38;5;241m.\u001b[39mfigure(figsize\u001b[38;5;241m=\u001b[39m(\u001b[38;5;241m10\u001b[39m,\u001b[38;5;241m10\u001b[39m))\n\u001b[0;32m      4\u001b[0m plt\u001b[38;5;241m.\u001b[39mimshow(img_rgb)\n",
      "\u001b[1;31mNameError\u001b[0m: name 'pred_img' is not defined"
     ]
    }
   ],
   "source": [
    "img_rgb = cv2.cvtColor(pred_img,cv2.COLOR_BGR2RGB)\n",
    "\n",
    "plt.figure(figsize=(10,10))\n",
    "plt.imshow(img_rgb)\n",
    "plt.axis('off')\n",
    "plt.show()\n",
    "\n",
    "## generate report\n",
    "for i in range(len(pred_dict)):\n",
    "    obj_gray = pred_dict[i]['roi'] #gray scale\n",
    "    obj_eig = pred_dict[i]['eig_img'].reshape(100,100) #eigen image\n",
    "    plt.subplot(1,2,1)\n",
    "    plt.imshow(obj_gray,cmap='gray')\n",
    "    plt.title('Gray ScaleImage')\n",
    "    plt.axis('off')\n",
    "    plt.subplot(1,2,2)\n",
    "    plt.imshow(obj_eig,cmap='gray')\n",
    "    plt.title('Eigen Image')\n",
    "    plt.axis('off')\n",
    "    \n",
    "    plt.show()\n",
    "    print('Predicted Gender =',pred_dict[i]['prediction_name'])\n",
    "    print('Predicted score = {:,.2f} %'.format(pred_dict[i]['score']*100))\n",
    "    \n",
    "    print('-'*100)"
   ]
  },
  {
   "cell_type": "markdown",
   "id": "80e827c6",
   "metadata": {},
   "source": [
    "### Real Time Gender Recognition"
   ]
  },
  {
   "cell_type": "code",
   "execution_count": 7,
   "id": "af3c560f",
   "metadata": {},
   "outputs": [],
   "source": [
    "cap = cv2.VideoCapture('./test_images/video.mp4') # 0 -> access webcamera, 1-> external camera, path\n",
    "\n",
    "while True:\n",
    "    ret, frame = cap.read()\n",
    "    \n",
    "    if ret == False:\n",
    "        break\n",
    "    \n",
    "    pred_img, pred_dict = faceRecognitionPipeline(frame,path=False)\n",
    "    \n",
    "    cv2.imshow('prediction',pred_img)\n",
    "    if cv2.waitKey(1) == ord('q'):\n",
    "        break\n",
    "    \n",
    "cap.release()\n",
    "cv2.destroyAllWindows()"
   ]
  },
  {
   "cell_type": "code",
   "execution_count": 6,
   "id": "291da0de-26e2-4609-8e31-258df3c091b4",
   "metadata": {},
   "outputs": [],
   "source": [
    "\n",
    "# Use the default camera (usually 0) for webcam access\n",
    "cap = cv2.VideoCapture(0)\n",
    "\n",
    "while True:\n",
    "    ret, frame = cap.read()\n",
    "\n",
    "    if not ret:\n",
    "        break\n",
    "\n",
    "    pred_img, pred_dict = faceRecognitionPipeline(frame, path=False)\n",
    "\n",
    "    cv2.imshow('prediction', pred_img)\n",
    "    if cv2.waitKey(1) == ord('q'):\n",
    "        break\n",
    "\n",
    "cap.release()\n",
    "cv2.destroyAllWindows()\n"
   ]
  },
  {
   "cell_type": "code",
   "execution_count": null,
   "id": "d48083cd",
   "metadata": {},
   "outputs": [],
   "source": []
  },
  {
   "cell_type": "code",
   "execution_count": null,
   "id": "23425e52",
   "metadata": {},
   "outputs": [],
   "source": []
  },
  {
   "cell_type": "code",
   "execution_count": null,
   "id": "a225aec7",
   "metadata": {},
   "outputs": [],
   "source": []
  },
  {
   "cell_type": "code",
   "execution_count": null,
   "id": "ccb62d36",
   "metadata": {},
   "outputs": [],
   "source": []
  },
  {
   "cell_type": "code",
   "execution_count": null,
   "id": "411b553c",
   "metadata": {},
   "outputs": [],
   "source": []
  },
  {
   "cell_type": "code",
   "execution_count": null,
   "id": "291d9951",
   "metadata": {},
   "outputs": [],
   "source": []
  },
  {
   "cell_type": "code",
   "execution_count": null,
   "id": "f3110152",
   "metadata": {},
   "outputs": [],
   "source": []
  }
 ],
 "metadata": {
  "kernelspec": {
   "display_name": "Python 3 (ipykernel)",
   "language": "python",
   "name": "python3"
  },
  "language_info": {
   "codemirror_mode": {
    "name": "ipython",
    "version": 3
   },
   "file_extension": ".py",
   "mimetype": "text/x-python",
   "name": "python",
   "nbconvert_exporter": "python",
   "pygments_lexer": "ipython3",
   "version": "3.12.1"
  }
 },
 "nbformat": 4,
 "nbformat_minor": 5
}
