{
 "cells": [
  {
   "cell_type": "code",
   "execution_count": 1,
   "id": "b93856d9-ac86-4310-9d6e-92e6c5c812f7",
   "metadata": {},
   "outputs": [
    {
     "name": "stderr",
     "output_type": "stream",
     "text": [
      "C:\\Users\\Hp\\AppData\\Local\\Programs\\Python\\Python312\\Lib\\site-packages\\sklearn\\base.py:348: InconsistentVersionWarning: Trying to unpickle estimator SVC from version 0.24.2 when using version 1.3.2. This might lead to breaking code or invalid results. Use at your own risk. For more info please refer to:\n",
      "https://scikit-learn.org/stable/model_persistence.html#security-maintainability-limitations\n",
      "  warnings.warn(\n",
      "C:\\Users\\Hp\\AppData\\Local\\Programs\\Python\\Python312\\Lib\\site-packages\\sklearn\\base.py:348: InconsistentVersionWarning: Trying to unpickle estimator PCA from version 0.24.2 when using version 1.3.2. This might lead to breaking code or invalid results. Use at your own risk. For more info please refer to:\n",
      "https://scikit-learn.org/stable/model_persistence.html#security-maintainability-limitations\n",
      "  warnings.warn(\n"
     ]
    }
   ],
   "source": [
    "import cv2\n",
    "from face_recognition import faceRecognitionPipeline"
   ]
  },
  {
   "cell_type": "code",
   "execution_count": 2,
   "id": "ddc8d5d7",
   "metadata": {},
   "outputs": [],
   "source": [
    "import matplotlib.pyplot as plt"
   ]
  },
  {
   "cell_type": "markdown",
   "id": "b1892f62",
   "metadata": {},
   "source": [
    "### Face Recognition Prediction"
   ]
  },
  {
   "cell_type": "code",
   "execution_count": 3,
   "id": "8c3d32b6",
   "metadata": {},
   "outputs": [
    {
     "ename": "error",
     "evalue": "OpenCV(4.8.1) D:\\a\\opencv-python\\opencv-python\\opencv\\modules\\imgproc\\src\\color.cpp:182: error: (-215:Assertion failed) !_src.empty() in function 'cv::cvtColor'\n",
     "output_type": "error",
     "traceback": [
      "\u001b[1;31m---------------------------------------------------------------------------\u001b[0m",
      "\u001b[1;31merror\u001b[0m                                     Traceback (most recent call last)",
      "Cell \u001b[1;32mIn[3], line 1\u001b[0m\n\u001b[1;32m----> 1\u001b[0m pred_img, pred_dict \u001b[38;5;241m=\u001b[39m \u001b[43mfaceRecognitionPipeline\u001b[49m\u001b[43m(\u001b[49m\u001b[38;5;124;43m'\u001b[39;49m\u001b[38;5;124;43m./test_images/victoria.jpg\u001b[39;49m\u001b[38;5;124;43m'\u001b[39;49m\u001b[43m)\u001b[49m\n",
      "File \u001b[1;32m~\\OneDrive\\Documents\\GitHub\\Face_Recognition\\Gender_Recognition\\face_recognition.py:22\u001b[0m, in \u001b[0;36mfaceRecognitionPipeline\u001b[1;34m(filename, path)\u001b[0m\n\u001b[0;32m     20\u001b[0m     img \u001b[38;5;241m=\u001b[39m filename \u001b[38;5;66;03m# array\u001b[39;00m\n\u001b[0;32m     21\u001b[0m \u001b[38;5;66;03m# step-02: convert into gray scale\u001b[39;00m\n\u001b[1;32m---> 22\u001b[0m gray \u001b[38;5;241m=\u001b[39m  \u001b[43mcv2\u001b[49m\u001b[38;5;241;43m.\u001b[39;49m\u001b[43mcvtColor\u001b[49m\u001b[43m(\u001b[49m\u001b[43mimg\u001b[49m\u001b[43m,\u001b[49m\u001b[43mcv2\u001b[49m\u001b[38;5;241;43m.\u001b[39;49m\u001b[43mCOLOR_BGR2GRAY\u001b[49m\u001b[43m)\u001b[49m \n\u001b[0;32m     23\u001b[0m \u001b[38;5;66;03m# step-03: crop the face (using haar cascase classifier)\u001b[39;00m\n\u001b[0;32m     24\u001b[0m faces \u001b[38;5;241m=\u001b[39m haar\u001b[38;5;241m.\u001b[39mdetectMultiScale(gray,\u001b[38;5;241m1.5\u001b[39m,\u001b[38;5;241m5\u001b[39m)\n",
      "\u001b[1;31merror\u001b[0m: OpenCV(4.8.1) D:\\a\\opencv-python\\opencv-python\\opencv\\modules\\imgproc\\src\\color.cpp:182: error: (-215:Assertion failed) !_src.empty() in function 'cv::cvtColor'\n"
     ]
    }
   ],
   "source": [
    "pred_img, pred_dict = faceRecognitionPipeline('./test_images/victoria.jpg')"
   ]
  },
  {
   "cell_type": "code",
   "execution_count": null,
   "id": "0019c970",
   "metadata": {},
   "outputs": [],
   "source": [
    "cv2.imshow(\"Predicted image\",pred_img)\n",
    "cv2.waitKey(0)\n",
    "cv2.destroyAllWindows()"
   ]
  },
  {
   "cell_type": "code",
   "execution_count": null,
   "id": "dc9860c1",
   "metadata": {},
   "outputs": [],
   "source": [
    "img_rgb = cv2.cvtColor(pred_img,cv2.COLOR_BGR2RGB)\n",
    "\n",
    "plt.figure(figsize=(10,10))\n",
    "plt.imshow(img_rgb)\n",
    "plt.axis('off')\n",
    "plt.show()\n",
    "\n",
    "## generate report\n",
    "for i in range(len(pred_dict)):\n",
    "    obj_gray = pred_dict[i]['roi'] #gray scale\n",
    "    obj_eig = pred_dict[i]['eig_img'].reshape(100,100) #eigen image\n",
    "    plt.subplot(1,2,1)\n",
    "    plt.imshow(obj_gray,cmap='gray')\n",
    "    plt.title('Gray ScaleImage')\n",
    "    plt.axis('off')\n",
    "    plt.subplot(1,2,2)\n",
    "    plt.imshow(obj_eig,cmap='gray')\n",
    "    plt.title('Eigen Image')\n",
    "    plt.axis('off')\n",
    "    \n",
    "    plt.show()\n",
    "    print('Predicted Gender =',pred_dict[i]['prediction_name'])\n",
    "    print('Predicted score = {:,.2f} %'.format(pred_dict[i]['score']*100))\n",
    "    \n",
    "    print('-'*100)"
   ]
  },
  {
   "cell_type": "markdown",
   "id": "80e827c6",
   "metadata": {},
   "source": [
    "### Real Time Gender Recognition"
   ]
  },
  {
   "cell_type": "code",
   "execution_count": null,
   "id": "af3c560f",
   "metadata": {},
   "outputs": [],
   "source": [
    "cap = cv2.VideoCapture('./test_images/video.mp4') # 0 -> access webcamera, 1-> external camera, path\n",
    "\n",
    "while True:\n",
    "    ret, frame = cap.read()\n",
    "    \n",
    "    if ret == False:\n",
    "        break\n",
    "    \n",
    "    pred_img, pred_dict = faceRecognitionPipeline(frame,path=False)\n",
    "    \n",
    "    cv2.imshow('prediction',pred_img)\n",
    "    if cv2.waitKey(1) == ord('q'):\n",
    "        break\n",
    "    \n",
    "cap.release()\n",
    "cv2.destroyAllWindows()"
   ]
  },
  {
   "cell_type": "code",
   "execution_count": null,
   "id": "291da0de-26e2-4609-8e31-258df3c091b4",
   "metadata": {},
   "outputs": [],
   "source": [
    "\n",
    "# Use the default camera (usually 0) for webcam access\n",
    "cap = cv2.VideoCapture(0)\n",
    "\n",
    "while True:\n",
    "    ret, frame = cap.read()\n",
    "\n",
    "    if not ret:\n",
    "        break\n",
    "\n",
    "    pred_img, pred_dict = faceRecognitionPipeline(frame, path=False)\n",
    "\n",
    "    cv2.imshow('prediction', pred_img)\n",
    "    if cv2.waitKey(1) == ord('q'):\n",
    "        break\n",
    "\n",
    "cap.release()\n",
    "cv2.destroyAllWindows()\n"
   ]
  },
  {
   "cell_type": "code",
   "execution_count": null,
   "id": "d48083cd",
   "metadata": {},
   "outputs": [],
   "source": []
  },
  {
   "cell_type": "code",
   "execution_count": null,
   "id": "23425e52",
   "metadata": {},
   "outputs": [],
   "source": []
  },
  {
   "cell_type": "code",
   "execution_count": null,
   "id": "a225aec7",
   "metadata": {},
   "outputs": [],
   "source": []
  },
  {
   "cell_type": "code",
   "execution_count": null,
   "id": "ccb62d36",
   "metadata": {},
   "outputs": [],
   "source": []
  },
  {
   "cell_type": "code",
   "execution_count": null,
   "id": "411b553c",
   "metadata": {},
   "outputs": [],
   "source": []
  },
  {
   "cell_type": "code",
   "execution_count": null,
   "id": "291d9951",
   "metadata": {},
   "outputs": [],
   "source": []
  },
  {
   "cell_type": "code",
   "execution_count": null,
   "id": "f3110152",
   "metadata": {},
   "outputs": [],
   "source": []
  }
 ],
 "metadata": {
  "kernelspec": {
   "display_name": "Python 3 (ipykernel)",
   "language": "python",
   "name": "python3"
  },
  "language_info": {
   "codemirror_mode": {
    "name": "ipython",
    "version": 3
   },
   "file_extension": ".py",
   "mimetype": "text/x-python",
   "name": "python",
   "nbconvert_exporter": "python",
   "pygments_lexer": "ipython3",
   "version": "3.12.0"
  }
 },
 "nbformat": 4,
 "nbformat_minor": 5
}
