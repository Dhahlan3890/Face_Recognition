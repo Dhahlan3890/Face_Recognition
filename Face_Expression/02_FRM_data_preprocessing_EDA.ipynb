{
 "cells": [
  {
   "cell_type": "code",
   "execution_count": 1,
   "id": "891cd802",
   "metadata": {},
   "outputs": [],
   "source": [
    "import numpy as np\n",
    "import pandas as pd\n",
    "\n",
    "# visualization\n",
    "import matplotlib.pyplot as plt\n",
    "import seaborn as sns\n",
    "\n",
    "# computer vision library\n",
    "import cv2\n",
    "\n",
    "# glob\n",
    "from glob import glob"
   ]
  },
  {
   "cell_type": "code",
   "execution_count": 2,
   "id": "2f9d0710",
   "metadata": {},
   "outputs": [],
   "source": [
    "import warnings\n",
    "warnings.filterwarnings('ignore')"
   ]
  },
  {
   "cell_type": "code",
   "execution_count": 3,
   "id": "e0163aee",
   "metadata": {},
   "outputs": [],
   "source": [
    "# extract path of male and female in crop_data folder and put them in a list\n",
    "happypath = glob('./crop_data/happy/*.jpg')\n",
    "sadpath = glob('./crop_data/sad/*.jpg')\n",
    "angrypath = glob('./crop_data/angry/*.jpg')\n",
    "#confusedpath = glob('./crop_data/confused/*.jpg'"
   ]
  },
  {
   "cell_type": "code",
   "execution_count": 4,
   "id": "ffce1049",
   "metadata": {},
   "outputs": [
    {
     "data": {
      "text/html": [
       "<div>\n",
       "<style scoped>\n",
       "    .dataframe tbody tr th:only-of-type {\n",
       "        vertical-align: middle;\n",
       "    }\n",
       "\n",
       "    .dataframe tbody tr th {\n",
       "        vertical-align: top;\n",
       "    }\n",
       "\n",
       "    .dataframe thead th {\n",
       "        text-align: right;\n",
       "    }\n",
       "</style>\n",
       "<table border=\"1\" class=\"dataframe\">\n",
       "  <thead>\n",
       "    <tr style=\"text-align: right;\">\n",
       "      <th></th>\n",
       "      <th>filepath</th>\n",
       "      <th>expression</th>\n",
       "    </tr>\n",
       "  </thead>\n",
       "  <tbody>\n",
       "    <tr>\n",
       "      <th>0</th>\n",
       "      <td>./crop_data/happy\\happy_0.jpg</td>\n",
       "      <td>happy</td>\n",
       "    </tr>\n",
       "    <tr>\n",
       "      <th>1</th>\n",
       "      <td>./crop_data/happy\\happy_1.jpg</td>\n",
       "      <td>happy</td>\n",
       "    </tr>\n",
       "    <tr>\n",
       "      <th>2</th>\n",
       "      <td>./crop_data/happy\\happy_100.jpg</td>\n",
       "      <td>happy</td>\n",
       "    </tr>\n",
       "    <tr>\n",
       "      <th>3</th>\n",
       "      <td>./crop_data/happy\\happy_102.jpg</td>\n",
       "      <td>happy</td>\n",
       "    </tr>\n",
       "    <tr>\n",
       "      <th>4</th>\n",
       "      <td>./crop_data/happy\\happy_105.jpg</td>\n",
       "      <td>happy</td>\n",
       "    </tr>\n",
       "  </tbody>\n",
       "</table>\n",
       "</div>"
      ],
      "text/plain": [
       "                          filepath expression\n",
       "0    ./crop_data/happy\\happy_0.jpg      happy\n",
       "1    ./crop_data/happy\\happy_1.jpg      happy\n",
       "2  ./crop_data/happy\\happy_100.jpg      happy\n",
       "3  ./crop_data/happy\\happy_102.jpg      happy\n",
       "4  ./crop_data/happy\\happy_105.jpg      happy"
      ]
     },
     "execution_count": 4,
     "metadata": {},
     "output_type": "execute_result"
    }
   ],
   "source": [
    "df_happy = pd.DataFrame(happypath,columns=['filepath'])\n",
    "df_happy['expression'] = 'happy'\n",
    "\n",
    "df_sad = pd.DataFrame(sadpath,columns=['filepath'])\n",
    "df_sad['expression'] = 'sad'\n",
    "\n",
    "df_angry = pd.DataFrame(angrypath,columns=['filepath'])\n",
    "df_angry['expression'] = 'angry'\n",
    "\n",
    "#df_confused = pd.DataFrame(confusedpath,columns=['filepath'])\n",
    "#df_confused['expression'] = 'confused'\n",
    "\n",
    "df = pd.concat((df_happy,df_sad, df_angry),axis=0)\n",
    "\n",
    "df.head()"
   ]
  },
  {
   "cell_type": "code",
   "execution_count": 5,
   "id": "37cd2544",
   "metadata": {},
   "outputs": [
    {
     "data": {
      "text/html": [
       "<div>\n",
       "<style scoped>\n",
       "    .dataframe tbody tr th:only-of-type {\n",
       "        vertical-align: middle;\n",
       "    }\n",
       "\n",
       "    .dataframe tbody tr th {\n",
       "        vertical-align: top;\n",
       "    }\n",
       "\n",
       "    .dataframe thead th {\n",
       "        text-align: right;\n",
       "    }\n",
       "</style>\n",
       "<table border=\"1\" class=\"dataframe\">\n",
       "  <thead>\n",
       "    <tr style=\"text-align: right;\">\n",
       "      <th></th>\n",
       "      <th>filepath</th>\n",
       "      <th>expression</th>\n",
       "    </tr>\n",
       "  </thead>\n",
       "  <tbody>\n",
       "    <tr>\n",
       "      <th>369</th>\n",
       "      <td>./crop_data/angry\\angry_9.jpg</td>\n",
       "      <td>angry</td>\n",
       "    </tr>\n",
       "    <tr>\n",
       "      <th>370</th>\n",
       "      <td>./crop_data/angry\\angry_90.jpg</td>\n",
       "      <td>angry</td>\n",
       "    </tr>\n",
       "    <tr>\n",
       "      <th>371</th>\n",
       "      <td>./crop_data/angry\\angry_94.jpg</td>\n",
       "      <td>angry</td>\n",
       "    </tr>\n",
       "    <tr>\n",
       "      <th>372</th>\n",
       "      <td>./crop_data/angry\\angry_97.jpg</td>\n",
       "      <td>angry</td>\n",
       "    </tr>\n",
       "    <tr>\n",
       "      <th>373</th>\n",
       "      <td>./crop_data/angry\\angry_98.jpg</td>\n",
       "      <td>angry</td>\n",
       "    </tr>\n",
       "  </tbody>\n",
       "</table>\n",
       "</div>"
      ],
      "text/plain": [
       "                           filepath expression\n",
       "369   ./crop_data/angry\\angry_9.jpg      angry\n",
       "370  ./crop_data/angry\\angry_90.jpg      angry\n",
       "371  ./crop_data/angry\\angry_94.jpg      angry\n",
       "372  ./crop_data/angry\\angry_97.jpg      angry\n",
       "373  ./crop_data/angry\\angry_98.jpg      angry"
      ]
     },
     "execution_count": 5,
     "metadata": {},
     "output_type": "execute_result"
    }
   ],
   "source": [
    "df.tail()"
   ]
  },
  {
   "cell_type": "code",
   "execution_count": 6,
   "id": "14015fae",
   "metadata": {},
   "outputs": [
    {
     "data": {
      "text/plain": [
       "(993, 2)"
      ]
     },
     "execution_count": 6,
     "metadata": {},
     "output_type": "execute_result"
    }
   ],
   "source": [
    "df.shape"
   ]
  },
  {
   "cell_type": "code",
   "execution_count": 7,
   "id": "cb12d392",
   "metadata": {},
   "outputs": [],
   "source": [
    "# it will take each image path\n",
    "# then return width of the image\n",
    "def get_size(path):\n",
    "    img = cv2.imread(path)\n",
    "    return img.shape[0]"
   ]
  },
  {
   "cell_type": "code",
   "execution_count": 8,
   "id": "b097448b",
   "metadata": {},
   "outputs": [],
   "source": [
    "df['dimension'] = df['filepath'].apply(get_size) # store dimension of image in this columns"
   ]
  },
  {
   "cell_type": "code",
   "execution_count": 9,
   "id": "e36ed276",
   "metadata": {},
   "outputs": [
    {
     "data": {
      "text/html": [
       "<div>\n",
       "<style scoped>\n",
       "    .dataframe tbody tr th:only-of-type {\n",
       "        vertical-align: middle;\n",
       "    }\n",
       "\n",
       "    .dataframe tbody tr th {\n",
       "        vertical-align: top;\n",
       "    }\n",
       "\n",
       "    .dataframe thead th {\n",
       "        text-align: right;\n",
       "    }\n",
       "</style>\n",
       "<table border=\"1\" class=\"dataframe\">\n",
       "  <thead>\n",
       "    <tr style=\"text-align: right;\">\n",
       "      <th></th>\n",
       "      <th>filepath</th>\n",
       "      <th>expression</th>\n",
       "      <th>dimension</th>\n",
       "    </tr>\n",
       "  </thead>\n",
       "  <tbody>\n",
       "    <tr>\n",
       "      <th>0</th>\n",
       "      <td>./crop_data/happy\\happy_0.jpg</td>\n",
       "      <td>happy</td>\n",
       "      <td>1384</td>\n",
       "    </tr>\n",
       "    <tr>\n",
       "      <th>1</th>\n",
       "      <td>./crop_data/happy\\happy_1.jpg</td>\n",
       "      <td>happy</td>\n",
       "      <td>615</td>\n",
       "    </tr>\n",
       "    <tr>\n",
       "      <th>2</th>\n",
       "      <td>./crop_data/happy\\happy_100.jpg</td>\n",
       "      <td>happy</td>\n",
       "      <td>273</td>\n",
       "    </tr>\n",
       "    <tr>\n",
       "      <th>3</th>\n",
       "      <td>./crop_data/happy\\happy_102.jpg</td>\n",
       "      <td>happy</td>\n",
       "      <td>182</td>\n",
       "    </tr>\n",
       "    <tr>\n",
       "      <th>4</th>\n",
       "      <td>./crop_data/happy\\happy_105.jpg</td>\n",
       "      <td>happy</td>\n",
       "      <td>54</td>\n",
       "    </tr>\n",
       "  </tbody>\n",
       "</table>\n",
       "</div>"
      ],
      "text/plain": [
       "                          filepath expression  dimension\n",
       "0    ./crop_data/happy\\happy_0.jpg      happy       1384\n",
       "1    ./crop_data/happy\\happy_1.jpg      happy        615\n",
       "2  ./crop_data/happy\\happy_100.jpg      happy        273\n",
       "3  ./crop_data/happy\\happy_102.jpg      happy        182\n",
       "4  ./crop_data/happy\\happy_105.jpg      happy         54"
      ]
     },
     "execution_count": 9,
     "metadata": {},
     "output_type": "execute_result"
    }
   ],
   "source": [
    "df.head()"
   ]
  },
  {
   "cell_type": "code",
   "execution_count": 13,
   "id": "9eaef530",
   "metadata": {},
   "outputs": [
    {
     "data": {
      "text/plain": [
       "expression\n",
       "happy    389\n",
       "angry    374\n",
       "sad      230\n",
       "Name: count, dtype: int64"
      ]
     },
     "execution_count": 13,
     "metadata": {},
     "output_type": "execute_result"
    }
   ],
   "source": [
    "dist_expression = df['expression'].value_counts()\n",
    "dist_expression"
   ]
  },
  {
   "cell_type": "code",
   "execution_count": 14,
   "id": "5b067741",
   "metadata": {},
   "outputs": [
    {
     "data": {
      "image/png": "[encoded data removed]",
      "text/plain": [
       "<Figure size 640x480 with 2 Axes>"
      ]
     },
     "metadata": {},
     "output_type": "display_data"
    }
   ],
   "source": [
    "fig,ax = plt.subplots(nrows=1,ncols=2)\n",
    "dist_expression.plot(kind='bar',ax=ax[0])\n",
    "dist_expression.plot(kind='pie',ax=ax[1],autopct='%0.0f%%')\n",
    "plt.show()"
   ]
  },
  {
   "cell_type": "code",
   "execution_count": 15,
   "id": "0199aaae",
   "metadata": {},
   "outputs": [
    {
     "data": {
      "image/png": "[encoded data removed]",
      "text/plain": [
       "<Figure size 1200x600 with 2 Axes>"
      ]
     },
     "metadata": {},
     "output_type": "display_data"
    }
   ],
   "source": [
    "# What Distribution of size of all Images\n",
    "# Histogram\n",
    "# Box Plot\n",
    "# Split by “Gender”\n",
    "plt.figure(figsize=(12,6))\n",
    "plt.subplot(2,1,1)\n",
    "sns.histplot(df['dimension'])\n",
    "plt.subplot(2,1,2)\n",
    "sns.boxplot(df['dimension'])\n",
    "plt.show()"
   ]
  },
  {
   "cell_type": "code",
   "execution_count": 16,
   "id": "8c708216",
   "metadata": {},
   "outputs": [
    {
     "data": {
      "text/plain": [
       "<seaborn.axisgrid.FacetGrid at 0x2966d6464e0>"
      ]
     },
     "execution_count": 16,
     "metadata": {},
     "output_type": "execute_result"
    },
    {
     "data": {
      "image/png": "[encoded data removed]",
      "text/plain": [
       "<Figure size 500x500 with 1 Axes>"
      ]
     },
     "metadata": {},
     "output_type": "display_data"
    }
   ],
   "source": [
    "sns.catplot(data=df,x='expression',y='dimension',kind='box')"
   ]
  },
  {
   "cell_type": "code",
   "execution_count": 17,
   "id": "d40b8254",
   "metadata": {},
   "outputs": [
    {
     "data": {
      "text/plain": [
       "(947, 3)"
      ]
     },
     "execution_count": 17,
     "metadata": {},
     "output_type": "execute_result"
    }
   ],
   "source": [
    "df_filter = df.query('dimension > 60')\n",
    "df_filter.shape"
   ]
  },
  {
   "cell_type": "code",
   "execution_count": 18,
   "id": "e69111fd",
   "metadata": {},
   "outputs": [
    {
     "data": {
      "text/plain": [
       "expression\n",
       "happy    0.390707\n",
       "angry    0.383316\n",
       "sad      0.225977\n",
       "Name: proportion, dtype: float64"
      ]
     },
     "execution_count": 18,
     "metadata": {},
     "output_type": "execute_result"
    }
   ],
   "source": [
    "df_filter['expression'].value_counts(normalize=True)"
   ]
  },
  {
   "cell_type": "markdown",
   "id": "6ba7f10b",
   "metadata": {},
   "source": [
    "#### Structure the image \n",
    "- 100 x 100"
   ]
  },
  {
   "cell_type": "code",
   "execution_count": 19,
   "id": "7a8700f8",
   "metadata": {},
   "outputs": [],
   "source": [
    "def structuring(path):\n",
    "    try:\n",
    "\n",
    "        # step - 1: read image\n",
    "        img = cv2.imread(path) # BGR\n",
    "        # step - 2: convert into grayscale\n",
    "        gray = cv2.cvtColor(img,cv2.COLOR_BGR2GRAY)\n",
    "        # step -3: resize into 100 x 100 array   \n",
    "\n",
    "        size = gray.shape[0]\n",
    "        if size >= 100:\n",
    "            # cv2.INTER_AREA (SHINK)\n",
    "            gray_resize = cv2.resize(gray,(100,100),cv2.INTER_AREA)\n",
    "        else:\n",
    "            # cv2.INTER_CUBIC (ENLARGE)\n",
    "            gray_resize = cv2.resize(gray,(100,100),cv2.INTER_CUBIC)\n",
    "\n",
    "        # step -4: Flatten Image (1x10,000)\n",
    "        flatten_image = gray_resize.flatten()\n",
    "        return flatten_image\n",
    "    \n",
    "    except:\n",
    "        return None"
   ]
  },
  {
   "cell_type": "code",
   "execution_count": 20,
   "id": "861860a1",
   "metadata": {},
   "outputs": [
    {
     "data": {
      "text/html": [
       "<div>\n",
       "<style scoped>\n",
       "    .dataframe tbody tr th:only-of-type {\n",
       "        vertical-align: middle;\n",
       "    }\n",
       "\n",
       "    .dataframe tbody tr th {\n",
       "        vertical-align: top;\n",
       "    }\n",
       "\n",
       "    .dataframe thead th {\n",
       "        text-align: right;\n",
       "    }\n",
       "</style>\n",
       "<table border=\"1\" class=\"dataframe\">\n",
       "  <thead>\n",
       "    <tr style=\"text-align: right;\">\n",
       "      <th></th>\n",
       "      <th>filepath</th>\n",
       "      <th>expression</th>\n",
       "      <th>dimension</th>\n",
       "      <th>data</th>\n",
       "    </tr>\n",
       "  </thead>\n",
       "  <tbody>\n",
       "    <tr>\n",
       "      <th>0</th>\n",
       "      <td>./crop_data/happy\\happy_0.jpg</td>\n",
       "      <td>happy</td>\n",
       "      <td>1384</td>\n",
       "      <td>[8, 20, 22, 11, 67, 49, 44, 57, 79, 56, 54, 48...</td>\n",
       "    </tr>\n",
       "    <tr>\n",
       "      <th>1</th>\n",
       "      <td>./crop_data/happy\\happy_1.jpg</td>\n",
       "      <td>happy</td>\n",
       "      <td>615</td>\n",
       "      <td>[145, 144, 145, 143, 143, 141, 133, 124, 67, 4...</td>\n",
       "    </tr>\n",
       "    <tr>\n",
       "      <th>2</th>\n",
       "      <td>./crop_data/happy\\happy_100.jpg</td>\n",
       "      <td>happy</td>\n",
       "      <td>273</td>\n",
       "      <td>[26, 6, 14, 11, 14, 12, 19, 20, 19, 32, 40, 48...</td>\n",
       "    </tr>\n",
       "    <tr>\n",
       "      <th>3</th>\n",
       "      <td>./crop_data/happy\\happy_102.jpg</td>\n",
       "      <td>happy</td>\n",
       "      <td>182</td>\n",
       "      <td>[51, 46, 52, 41, 38, 35, 37, 42, 36, 37, 42, 3...</td>\n",
       "    </tr>\n",
       "    <tr>\n",
       "      <th>5</th>\n",
       "      <td>./crop_data/happy\\happy_106.jpg</td>\n",
       "      <td>happy</td>\n",
       "      <td>273</td>\n",
       "      <td>[171, 169, 172, 173, 176, 180, 153, 134, 66, 6...</td>\n",
       "    </tr>\n",
       "  </tbody>\n",
       "</table>\n",
       "</div>"
      ],
      "text/plain": [
       "                          filepath expression  dimension  \\\n",
       "0    ./crop_data/happy\\happy_0.jpg      happy       1384   \n",
       "1    ./crop_data/happy\\happy_1.jpg      happy        615   \n",
       "2  ./crop_data/happy\\happy_100.jpg      happy        273   \n",
       "3  ./crop_data/happy\\happy_102.jpg      happy        182   \n",
       "5  ./crop_data/happy\\happy_106.jpg      happy        273   \n",
       "\n",
       "                                                data  \n",
       "0  [8, 20, 22, 11, 67, 49, 44, 57, 79, 56, 54, 48...  \n",
       "1  [145, 144, 145, 143, 143, 141, 133, 124, 67, 4...  \n",
       "2  [26, 6, 14, 11, 14, 12, 19, 20, 19, 32, 40, 48...  \n",
       "3  [51, 46, 52, 41, 38, 35, 37, 42, 36, 37, 42, 3...  \n",
       "5  [171, 169, 172, 173, 176, 180, 153, 134, 66, 6...  "
      ]
     },
     "execution_count": 20,
     "metadata": {},
     "output_type": "execute_result"
    }
   ],
   "source": [
    "df_filter['data'] = df_filter['filepath'].apply(structuring) # convert all images into 100 x 100\n",
    "df_filter.head()"
   ]
  },
  {
   "cell_type": "code",
   "execution_count": 21,
   "id": "cd24fdf5",
   "metadata": {},
   "outputs": [
    {
     "data": {
      "text/html": [
       "<div>\n",
       "<style scoped>\n",
       "    .dataframe tbody tr th:only-of-type {\n",
       "        vertical-align: middle;\n",
       "    }\n",
       "\n",
       "    .dataframe tbody tr th {\n",
       "        vertical-align: top;\n",
       "    }\n",
       "\n",
       "    .dataframe thead th {\n",
       "        text-align: right;\n",
       "    }\n",
       "</style>\n",
       "<table border=\"1\" class=\"dataframe\">\n",
       "  <thead>\n",
       "    <tr style=\"text-align: right;\">\n",
       "      <th></th>\n",
       "      <th>pixel_0</th>\n",
       "      <th>pixel_1</th>\n",
       "      <th>pixel_2</th>\n",
       "      <th>pixel_3</th>\n",
       "      <th>pixel_4</th>\n",
       "      <th>pixel_5</th>\n",
       "      <th>pixel_6</th>\n",
       "      <th>pixel_7</th>\n",
       "      <th>pixel_8</th>\n",
       "      <th>pixel_9</th>\n",
       "      <th>...</th>\n",
       "      <th>pixel_9990</th>\n",
       "      <th>pixel_9991</th>\n",
       "      <th>pixel_9992</th>\n",
       "      <th>pixel_9993</th>\n",
       "      <th>pixel_9994</th>\n",
       "      <th>pixel_9995</th>\n",
       "      <th>pixel_9996</th>\n",
       "      <th>pixel_9997</th>\n",
       "      <th>pixel_9998</th>\n",
       "      <th>pixel_9999</th>\n",
       "    </tr>\n",
       "  </thead>\n",
       "  <tbody>\n",
       "    <tr>\n",
       "      <th>0</th>\n",
       "      <td>8</td>\n",
       "      <td>20</td>\n",
       "      <td>22</td>\n",
       "      <td>11</td>\n",
       "      <td>67</td>\n",
       "      <td>49</td>\n",
       "      <td>44</td>\n",
       "      <td>57</td>\n",
       "      <td>79</td>\n",
       "      <td>56</td>\n",
       "      <td>...</td>\n",
       "      <td>173</td>\n",
       "      <td>165</td>\n",
       "      <td>158</td>\n",
       "      <td>149</td>\n",
       "      <td>144</td>\n",
       "      <td>154</td>\n",
       "      <td>161</td>\n",
       "      <td>152</td>\n",
       "      <td>148</td>\n",
       "      <td>148</td>\n",
       "    </tr>\n",
       "    <tr>\n",
       "      <th>1</th>\n",
       "      <td>145</td>\n",
       "      <td>144</td>\n",
       "      <td>145</td>\n",
       "      <td>143</td>\n",
       "      <td>143</td>\n",
       "      <td>141</td>\n",
       "      <td>133</td>\n",
       "      <td>124</td>\n",
       "      <td>67</td>\n",
       "      <td>42</td>\n",
       "      <td>...</td>\n",
       "      <td>23</td>\n",
       "      <td>6</td>\n",
       "      <td>5</td>\n",
       "      <td>6</td>\n",
       "      <td>10</td>\n",
       "      <td>19</td>\n",
       "      <td>28</td>\n",
       "      <td>19</td>\n",
       "      <td>20</td>\n",
       "      <td>22</td>\n",
       "    </tr>\n",
       "    <tr>\n",
       "      <th>2</th>\n",
       "      <td>26</td>\n",
       "      <td>6</td>\n",
       "      <td>14</td>\n",
       "      <td>11</td>\n",
       "      <td>14</td>\n",
       "      <td>12</td>\n",
       "      <td>19</td>\n",
       "      <td>20</td>\n",
       "      <td>19</td>\n",
       "      <td>32</td>\n",
       "      <td>...</td>\n",
       "      <td>210</td>\n",
       "      <td>211</td>\n",
       "      <td>212</td>\n",
       "      <td>212</td>\n",
       "      <td>212</td>\n",
       "      <td>213</td>\n",
       "      <td>210</td>\n",
       "      <td>211</td>\n",
       "      <td>210</td>\n",
       "      <td>206</td>\n",
       "    </tr>\n",
       "    <tr>\n",
       "      <th>3</th>\n",
       "      <td>51</td>\n",
       "      <td>46</td>\n",
       "      <td>52</td>\n",
       "      <td>41</td>\n",
       "      <td>38</td>\n",
       "      <td>35</td>\n",
       "      <td>37</td>\n",
       "      <td>42</td>\n",
       "      <td>36</td>\n",
       "      <td>37</td>\n",
       "      <td>...</td>\n",
       "      <td>86</td>\n",
       "      <td>105</td>\n",
       "      <td>119</td>\n",
       "      <td>125</td>\n",
       "      <td>154</td>\n",
       "      <td>160</td>\n",
       "      <td>173</td>\n",
       "      <td>166</td>\n",
       "      <td>178</td>\n",
       "      <td>172</td>\n",
       "    </tr>\n",
       "    <tr>\n",
       "      <th>5</th>\n",
       "      <td>171</td>\n",
       "      <td>169</td>\n",
       "      <td>172</td>\n",
       "      <td>173</td>\n",
       "      <td>176</td>\n",
       "      <td>180</td>\n",
       "      <td>153</td>\n",
       "      <td>134</td>\n",
       "      <td>66</td>\n",
       "      <td>66</td>\n",
       "      <td>...</td>\n",
       "      <td>209</td>\n",
       "      <td>211</td>\n",
       "      <td>211</td>\n",
       "      <td>212</td>\n",
       "      <td>213</td>\n",
       "      <td>214</td>\n",
       "      <td>212</td>\n",
       "      <td>208</td>\n",
       "      <td>205</td>\n",
       "      <td>208</td>\n",
       "    </tr>\n",
       "  </tbody>\n",
       "</table>\n",
       "<p>5 rows × 10000 columns</p>\n",
       "</div>"
      ],
      "text/plain": [
       "   pixel_0  pixel_1  pixel_2  pixel_3  pixel_4  pixel_5  pixel_6  pixel_7  \\\n",
       "0        8       20       22       11       67       49       44       57   \n",
       "1      145      144      145      143      143      141      133      124   \n",
       "2       26        6       14       11       14       12       19       20   \n",
       "3       51       46       52       41       38       35       37       42   \n",
       "5      171      169      172      173      176      180      153      134   \n",
       "\n",
       "   pixel_8  pixel_9  ...  pixel_9990  pixel_9991  pixel_9992  pixel_9993  \\\n",
       "0       79       56  ...         173         165         158         149   \n",
       "1       67       42  ...          23           6           5           6   \n",
       "2       19       32  ...         210         211         212         212   \n",
       "3       36       37  ...          86         105         119         125   \n",
       "5       66       66  ...         209         211         211         212   \n",
       "\n",
       "   pixel_9994  pixel_9995  pixel_9996  pixel_9997  pixel_9998  pixel_9999  \n",
       "0         144         154         161         152         148         148  \n",
       "1          10          19          28          19          20          22  \n",
       "2         212         213         210         211         210         206  \n",
       "3         154         160         173         166         178         172  \n",
       "5         213         214         212         208         205         208  \n",
       "\n",
       "[5 rows x 10000 columns]"
      ]
     },
     "execution_count": 21,
     "metadata": {},
     "output_type": "execute_result"
    }
   ],
   "source": [
    "data = df_filter['data'].apply(pd.Series)\n",
    "data.columns = [f\"pixel_{i}\" for i in data.columns]\n",
    "data.head()"
   ]
  },
  {
   "cell_type": "markdown",
   "id": "27e18476",
   "metadata": {},
   "source": [
    "#### Data Normalization"
   ]
  },
  {
   "cell_type": "code",
   "execution_count": 22,
   "id": "7ca32518",
   "metadata": {},
   "outputs": [
    {
     "data": {
      "text/html": [
       "<div>\n",
       "<style scoped>\n",
       "    .dataframe tbody tr th:only-of-type {\n",
       "        vertical-align: middle;\n",
       "    }\n",
       "\n",
       "    .dataframe tbody tr th {\n",
       "        vertical-align: top;\n",
       "    }\n",
       "\n",
       "    .dataframe thead th {\n",
       "        text-align: right;\n",
       "    }\n",
       "</style>\n",
       "<table border=\"1\" class=\"dataframe\">\n",
       "  <thead>\n",
       "    <tr style=\"text-align: right;\">\n",
       "      <th></th>\n",
       "      <th>pixel_0</th>\n",
       "      <th>pixel_1</th>\n",
       "      <th>pixel_2</th>\n",
       "      <th>pixel_3</th>\n",
       "      <th>pixel_4</th>\n",
       "      <th>pixel_5</th>\n",
       "      <th>pixel_6</th>\n",
       "      <th>pixel_7</th>\n",
       "      <th>pixel_8</th>\n",
       "      <th>pixel_9</th>\n",
       "      <th>...</th>\n",
       "      <th>pixel_9991</th>\n",
       "      <th>pixel_9992</th>\n",
       "      <th>pixel_9993</th>\n",
       "      <th>pixel_9994</th>\n",
       "      <th>pixel_9995</th>\n",
       "      <th>pixel_9996</th>\n",
       "      <th>pixel_9997</th>\n",
       "      <th>pixel_9998</th>\n",
       "      <th>pixel_9999</th>\n",
       "      <th>expression</th>\n",
       "    </tr>\n",
       "  </thead>\n",
       "  <tbody>\n",
       "    <tr>\n",
       "      <th>0</th>\n",
       "      <td>0.031373</td>\n",
       "      <td>0.078431</td>\n",
       "      <td>0.086275</td>\n",
       "      <td>0.043137</td>\n",
       "      <td>0.262745</td>\n",
       "      <td>0.192157</td>\n",
       "      <td>0.172549</td>\n",
       "      <td>0.223529</td>\n",
       "      <td>0.309804</td>\n",
       "      <td>0.219608</td>\n",
       "      <td>...</td>\n",
       "      <td>0.647059</td>\n",
       "      <td>0.619608</td>\n",
       "      <td>0.584314</td>\n",
       "      <td>0.564706</td>\n",
       "      <td>0.603922</td>\n",
       "      <td>0.631373</td>\n",
       "      <td>0.596078</td>\n",
       "      <td>0.580392</td>\n",
       "      <td>0.580392</td>\n",
       "      <td>happy</td>\n",
       "    </tr>\n",
       "    <tr>\n",
       "      <th>1</th>\n",
       "      <td>0.568627</td>\n",
       "      <td>0.564706</td>\n",
       "      <td>0.568627</td>\n",
       "      <td>0.560784</td>\n",
       "      <td>0.560784</td>\n",
       "      <td>0.552941</td>\n",
       "      <td>0.521569</td>\n",
       "      <td>0.486275</td>\n",
       "      <td>0.262745</td>\n",
       "      <td>0.164706</td>\n",
       "      <td>...</td>\n",
       "      <td>0.023529</td>\n",
       "      <td>0.019608</td>\n",
       "      <td>0.023529</td>\n",
       "      <td>0.039216</td>\n",
       "      <td>0.074510</td>\n",
       "      <td>0.109804</td>\n",
       "      <td>0.074510</td>\n",
       "      <td>0.078431</td>\n",
       "      <td>0.086275</td>\n",
       "      <td>happy</td>\n",
       "    </tr>\n",
       "    <tr>\n",
       "      <th>2</th>\n",
       "      <td>0.101961</td>\n",
       "      <td>0.023529</td>\n",
       "      <td>0.054902</td>\n",
       "      <td>0.043137</td>\n",
       "      <td>0.054902</td>\n",
       "      <td>0.047059</td>\n",
       "      <td>0.074510</td>\n",
       "      <td>0.078431</td>\n",
       "      <td>0.074510</td>\n",
       "      <td>0.125490</td>\n",
       "      <td>...</td>\n",
       "      <td>0.827451</td>\n",
       "      <td>0.831373</td>\n",
       "      <td>0.831373</td>\n",
       "      <td>0.831373</td>\n",
       "      <td>0.835294</td>\n",
       "      <td>0.823529</td>\n",
       "      <td>0.827451</td>\n",
       "      <td>0.823529</td>\n",
       "      <td>0.807843</td>\n",
       "      <td>happy</td>\n",
       "    </tr>\n",
       "    <tr>\n",
       "      <th>3</th>\n",
       "      <td>0.200000</td>\n",
       "      <td>0.180392</td>\n",
       "      <td>0.203922</td>\n",
       "      <td>0.160784</td>\n",
       "      <td>0.149020</td>\n",
       "      <td>0.137255</td>\n",
       "      <td>0.145098</td>\n",
       "      <td>0.164706</td>\n",
       "      <td>0.141176</td>\n",
       "      <td>0.145098</td>\n",
       "      <td>...</td>\n",
       "      <td>0.411765</td>\n",
       "      <td>0.466667</td>\n",
       "      <td>0.490196</td>\n",
       "      <td>0.603922</td>\n",
       "      <td>0.627451</td>\n",
       "      <td>0.678431</td>\n",
       "      <td>0.650980</td>\n",
       "      <td>0.698039</td>\n",
       "      <td>0.674510</td>\n",
       "      <td>happy</td>\n",
       "    </tr>\n",
       "    <tr>\n",
       "      <th>5</th>\n",
       "      <td>0.670588</td>\n",
       "      <td>0.662745</td>\n",
       "      <td>0.674510</td>\n",
       "      <td>0.678431</td>\n",
       "      <td>0.690196</td>\n",
       "      <td>0.705882</td>\n",
       "      <td>0.600000</td>\n",
       "      <td>0.525490</td>\n",
       "      <td>0.258824</td>\n",
       "      <td>0.258824</td>\n",
       "      <td>...</td>\n",
       "      <td>0.827451</td>\n",
       "      <td>0.827451</td>\n",
       "      <td>0.831373</td>\n",
       "      <td>0.835294</td>\n",
       "      <td>0.839216</td>\n",
       "      <td>0.831373</td>\n",
       "      <td>0.815686</td>\n",
       "      <td>0.803922</td>\n",
       "      <td>0.815686</td>\n",
       "      <td>happy</td>\n",
       "    </tr>\n",
       "  </tbody>\n",
       "</table>\n",
       "<p>5 rows × 10001 columns</p>\n",
       "</div>"
      ],
      "text/plain": [
       "    pixel_0   pixel_1   pixel_2   pixel_3   pixel_4   pixel_5   pixel_6  \\\n",
       "0  0.031373  0.078431  0.086275  0.043137  0.262745  0.192157  0.172549   \n",
       "1  0.568627  0.564706  0.568627  0.560784  0.560784  0.552941  0.521569   \n",
       "2  0.101961  0.023529  0.054902  0.043137  0.054902  0.047059  0.074510   \n",
       "3  0.200000  0.180392  0.203922  0.160784  0.149020  0.137255  0.145098   \n",
       "5  0.670588  0.662745  0.674510  0.678431  0.690196  0.705882  0.600000   \n",
       "\n",
       "    pixel_7   pixel_8   pixel_9  ...  pixel_9991  pixel_9992  pixel_9993  \\\n",
       "0  0.223529  0.309804  0.219608  ...    0.647059    0.619608    0.584314   \n",
       "1  0.486275  0.262745  0.164706  ...    0.023529    0.019608    0.023529   \n",
       "2  0.078431  0.074510  0.125490  ...    0.827451    0.831373    0.831373   \n",
       "3  0.164706  0.141176  0.145098  ...    0.411765    0.466667    0.490196   \n",
       "5  0.525490  0.258824  0.258824  ...    0.827451    0.827451    0.831373   \n",
       "\n",
       "   pixel_9994  pixel_9995  pixel_9996  pixel_9997  pixel_9998  pixel_9999  \\\n",
       "0    0.564706    0.603922    0.631373    0.596078    0.580392    0.580392   \n",
       "1    0.039216    0.074510    0.109804    0.074510    0.078431    0.086275   \n",
       "2    0.831373    0.835294    0.823529    0.827451    0.823529    0.807843   \n",
       "3    0.603922    0.627451    0.678431    0.650980    0.698039    0.674510   \n",
       "5    0.835294    0.839216    0.831373    0.815686    0.803922    0.815686   \n",
       "\n",
       "   expression  \n",
       "0       happy  \n",
       "1       happy  \n",
       "2       happy  \n",
       "3       happy  \n",
       "5       happy  \n",
       "\n",
       "[5 rows x 10001 columns]"
      ]
     },
     "execution_count": 22,
     "metadata": {},
     "output_type": "execute_result"
    }
   ],
   "source": [
    "# since for 8 bit image max value is 255 \n",
    "# therefore we are dividing each and every pixel with 255\n",
    "data = data/255.0 \n",
    "data['expression'] = df_filter['expression']\n",
    "data.head()"
   ]
  },
  {
   "cell_type": "code",
   "execution_count": 23,
   "id": "1a7b4099",
   "metadata": {},
   "outputs": [
    {
     "data": {
      "text/plain": [
       "0"
      ]
     },
     "execution_count": 23,
     "metadata": {},
     "output_type": "execute_result"
    }
   ],
   "source": [
    "###\n",
    "data.isnull().sum().sum()"
   ]
  },
  {
   "cell_type": "code",
   "execution_count": 24,
   "id": "5d5e3b19",
   "metadata": {},
   "outputs": [],
   "source": [
    "## remove the missing values\n",
    "data.dropna(inplace=True)"
   ]
  },
  {
   "cell_type": "code",
   "execution_count": 25,
   "id": "7fce6223",
   "metadata": {},
   "outputs": [
    {
     "data": {
      "text/plain": [
       "(947, 10001)"
      ]
     },
     "execution_count": 25,
     "metadata": {},
     "output_type": "execute_result"
    }
   ],
   "source": [
    "data.shape"
   ]
  },
  {
   "cell_type": "markdown",
   "id": "d5037ea1",
   "metadata": {},
   "source": [
    "**Save the data** for future study"
   ]
  },
  {
   "cell_type": "code",
   "execution_count": 26,
   "id": "2713b9ed",
   "metadata": {},
   "outputs": [],
   "source": [
    "import pickle"
   ]
  },
  {
   "cell_type": "code",
   "execution_count": 27,
   "id": "11a2caeb",
   "metadata": {},
   "outputs": [],
   "source": [
    "pickle.dump(data,open('./data/expression_data_images_100_100.pickle',mode='wb'))"
   ]
  },
  {
   "cell_type": "markdown",
   "id": "763e5851",
   "metadata": {},
   "source": [
    "---\n",
    "### END"
   ]
  }
 ],
 "metadata": {
  "kernelspec": {
   "display_name": "Python 3 (ipykernel)",
   "language": "python",
   "name": "python3"
  },
  "language_info": {
   "codemirror_mode": {
    "name": "ipython",
    "version": 3
   },
   "file_extension": ".py",
   "mimetype": "text/x-python",
   "name": "python",
   "nbconvert_exporter": "python",
   "pygments_lexer": "ipython3",
   "version": "3.12.0"
  }
 },
 "nbformat": 4,
 "nbformat_minor": 5
}
